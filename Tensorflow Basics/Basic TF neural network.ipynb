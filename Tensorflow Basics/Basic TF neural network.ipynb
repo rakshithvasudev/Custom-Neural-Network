{
 "cells": [
  {
   "cell_type": "code",
   "execution_count": 1,
   "metadata": {
    "collapsed": true
   },
   "outputs": [],
   "source": [
    "import numpy as np\n",
    "import tensorflow as tf\n",
    "import matplotlib.pyplot as plt\n",
    "%matplotlib inline"
   ]
  },
  {
   "cell_type": "code",
   "execution_count": 2,
   "metadata": {
    "collapsed": true
   },
   "outputs": [],
   "source": [
    "np.random.seed(101)\n",
    "tf.set_random_seed(101)"
   ]
  },
  {
   "cell_type": "code",
   "execution_count": 3,
   "metadata": {
    "scrolled": true
   },
   "outputs": [
    {
     "data": {
      "text/plain": [
       "array([[ 51.63986277,  57.06675869,   2.84742265,  17.15216562,\n",
       "         68.52769817],\n",
       "       [ 83.38968626,  30.69662197,  89.36130797,  72.15438618,\n",
       "         18.99389542],\n",
       "       [ 55.42275911,  35.2131954 ,  18.18924027,  78.56017619,\n",
       "         96.54832224],\n",
       "       [ 23.23536618,   8.35614337,  60.35484223,  72.89927573,\n",
       "         27.62388285],\n",
       "       [ 68.53063288,  51.78674742,   4.84845374,  13.78692376,\n",
       "         18.69674261]])"
      ]
     },
     "execution_count": 3,
     "metadata": {},
     "output_type": "execute_result"
    }
   ],
   "source": [
    "rand_a = np.random.uniform(0,100,(5,5))\n",
    "rand_a"
   ]
  },
  {
   "cell_type": "code",
   "execution_count": 4,
   "metadata": {},
   "outputs": [
    {
     "data": {
      "text/plain": [
       "array([[ 99.43179012],\n",
       "       [ 52.06653967],\n",
       "       [ 57.87895355],\n",
       "       [ 73.48190583],\n",
       "       [ 54.19617722]])"
      ]
     },
     "execution_count": 4,
     "metadata": {},
     "output_type": "execute_result"
    }
   ],
   "source": [
    "rand_b = np.random.uniform(0,100,(5,1))\n",
    "rand_b"
   ]
  },
  {
   "cell_type": "code",
   "execution_count": 5,
   "metadata": {
    "collapsed": true
   },
   "outputs": [],
   "source": [
    "a = tf.placeholder(tf.float32)\n",
    "b = tf.placeholder(tf.float32)"
   ]
  },
  {
   "cell_type": "code",
   "execution_count": 6,
   "metadata": {
    "collapsed": true
   },
   "outputs": [],
   "source": [
    "add_op = a + b"
   ]
  },
  {
   "cell_type": "code",
   "execution_count": 7,
   "metadata": {
    "collapsed": true
   },
   "outputs": [],
   "source": [
    "mul_op = a * b"
   ]
  },
  {
   "cell_type": "code",
   "execution_count": 8,
   "metadata": {},
   "outputs": [
    {
     "name": "stdout",
     "output_type": "stream",
     "text": [
      "[ 1.  1.  1.  1.  1.  1.]\n"
     ]
    }
   ],
   "source": [
    "with tf.Session() as sess:\n",
    "    print(sess.run(tf.ones([6])))"
   ]
  },
  {
   "cell_type": "code",
   "execution_count": 9,
   "metadata": {},
   "outputs": [
    {
     "name": "stdout",
     "output_type": "stream",
     "text": [
      "[[ 151.07165527  156.49855042  102.27921295  116.58396149  167.95948792]\n",
      " [ 135.45622253   82.76316071  141.42784119  124.22093201   71.06043243]\n",
      " [ 113.30171204   93.09214783   76.06819153  136.43911743  154.42727661]\n",
      " [  96.7172699    81.83804321  133.83674622  146.38117981  101.10578918]\n",
      " [ 122.72680664  105.98292542   59.04463196   67.98310089   72.89292145]]\n",
      "\n",
      "\n",
      "[[ 5134.64404297  5674.25         283.12432861  1705.47070312\n",
      "   6813.83154297]\n",
      " [ 4341.8125      1598.26696777  4652.73388672  3756.8293457    988.9463501 ]\n",
      " [ 3207.8112793   2038.10290527  1052.77416992  4546.98046875\n",
      "   5588.11572266]\n",
      " [ 1707.37902832   614.02526855  4434.98876953  5356.77734375\n",
      "   2029.85546875]\n",
      " [ 3714.09838867  2806.64379883   262.76763916   747.19854736\n",
      "   1013.29199219]]\n"
     ]
    }
   ],
   "source": [
    "with tf.Session() as sess:\n",
    "    print(sess.run(add_op,feed_dict={a:rand_a,b:rand_b}))\n",
    "    \n",
    "    print(\"\\n\")\n",
    "    \n",
    "    print(sess.run(mul_op,feed_dict={a:rand_a,b:rand_b}))"
   ]
  },
  {
   "cell_type": "markdown",
   "metadata": {},
   "source": [
    "# Tensorflow Basic NN"
   ]
  },
  {
   "cell_type": "code",
   "execution_count": 10,
   "metadata": {
    "collapsed": true
   },
   "outputs": [],
   "source": [
    "n_features = 10\n",
    "n_dense_neurons = 3"
   ]
  },
  {
   "cell_type": "code",
   "execution_count": 11,
   "metadata": {
    "collapsed": true
   },
   "outputs": [],
   "source": [
    "# shape of is x is (n_training_examples, n_features)\n",
    "x = tf.placeholder(tf.float32,shape=(None,n_features))"
   ]
  },
  {
   "cell_type": "code",
   "execution_count": 12,
   "metadata": {
    "collapsed": true
   },
   "outputs": [],
   "source": [
    "W = tf.Variable(tf.random_normal([n_features,n_dense_neurons]))"
   ]
  },
  {
   "cell_type": "code",
   "execution_count": 13,
   "metadata": {
    "collapsed": true
   },
   "outputs": [],
   "source": [
    "b = tf.Variable(tf.ones([n_dense_neurons])) "
   ]
  },
  {
   "cell_type": "code",
   "execution_count": 14,
   "metadata": {
    "collapsed": true
   },
   "outputs": [],
   "source": [
    "Wx = tf.matmul(x,W)"
   ]
  },
  {
   "cell_type": "code",
   "execution_count": 15,
   "metadata": {
    "collapsed": true
   },
   "outputs": [],
   "source": [
    "z = tf.add(Wx,b)"
   ]
  },
  {
   "cell_type": "code",
   "execution_count": 16,
   "metadata": {
    "collapsed": true
   },
   "outputs": [],
   "source": [
    "a = tf.sigmoid(z)"
   ]
  },
  {
   "cell_type": "code",
   "execution_count": 17,
   "metadata": {},
   "outputs": [],
   "source": [
    "init = tf.global_variables_initializer()"
   ]
  },
  {
   "cell_type": "code",
   "execution_count": 18,
   "metadata": {},
   "outputs": [
    {
     "name": "stdout",
     "output_type": "stream",
     "text": [
      "[[ 0.90146554  0.64960819  0.95483005]]\n"
     ]
    }
   ],
   "source": [
    "with tf.Session() as sess:\n",
    "    sess.run(init)\n",
    "    layer_out = sess.run(a,feed_dict={x:np.random.random([1,n_features])})\n",
    "    \n",
    "    print(layer_out)"
   ]
  },
  {
   "cell_type": "code",
   "execution_count": 19,
   "metadata": {},
   "outputs": [
    {
     "data": {
      "text/plain": [
       "array([[ 0.09714648,  0.10284749,  0.7015073 ,  0.89047987,  0.1595603 ,\n",
       "         0.27557254,  0.67249153,  0.16430312,  0.70137114,  0.48763522]])"
      ]
     },
     "execution_count": 19,
     "metadata": {},
     "output_type": "execute_result"
    }
   ],
   "source": [
    "np.random.random((1,n_features))"
   ]
  },
  {
   "cell_type": "markdown",
   "metadata": {},
   "source": [
    "# Simple Regression"
   ]
  },
  {
   "cell_type": "code",
   "execution_count": 20,
   "metadata": {},
   "outputs": [
    {
     "data": {
      "text/plain": [
       "array([ 0.5420333 ,  1.17575569,  0.85241231,  2.50514314,  4.67005971,\n",
       "        4.41685654,  6.66701681,  6.69180648,  7.54731409,  9.03483077])"
      ]
     },
     "execution_count": 20,
     "metadata": {},
     "output_type": "execute_result"
    }
   ],
   "source": [
    "x_data = np.linspace(0,10,10) + np.random.uniform(-1.5,1.5,10)\n",
    "x_data"
   ]
  },
  {
   "cell_type": "code",
   "execution_count": 21,
   "metadata": {},
   "outputs": [
    {
     "data": {
      "text/plain": [
       "array([ -0.17289561,   2.24387308,   3.57001461,   3.26783558,\n",
       "         4.32780247,   5.96742265,   6.14049066,   6.63051206,\n",
       "         7.54219188,  10.41297596])"
      ]
     },
     "execution_count": 21,
     "metadata": {},
     "output_type": "execute_result"
    }
   ],
   "source": [
    "y_label = np.linspace(0,10,10) + np.random.uniform(-1.5,1.5,10)\n",
    "y_label"
   ]
  },
  {
   "cell_type": "code",
   "execution_count": 22,
   "metadata": {},
   "outputs": [
    {
     "data": {
      "text/plain": [
       "[<matplotlib.lines.Line2D at 0x1b9d5b52588>]"
      ]
     },
     "execution_count": 22,
     "metadata": {},
     "output_type": "execute_result"
    },
    {
     "data": {
      "image/png": "[encoded data removed]",
      "text/plain": [
       "<matplotlib.figure.Figure at 0x1b9d106e518>"
      ]
     },
     "metadata": {},
     "output_type": "display_data"
    }
   ],
   "source": [
    "plt.plot(x_data,y_label,'*')"
   ]
  },
  {
   "cell_type": "code",
   "execution_count": 26,
   "metadata": {},
   "outputs": [
    {
     "data": {
      "text/plain": [
       "array([ 0.65992452,  0.5296234 ])"
      ]
     },
     "execution_count": 26,
     "metadata": {},
     "output_type": "execute_result"
    }
   ],
   "source": [
    "np.random.rand(2)"
   ]
  },
  {
   "cell_type": "code",
   "execution_count": 27,
   "metadata": {
    "collapsed": true
   },
   "outputs": [],
   "source": [
    "m = tf.Variable(np.random.rand(2)[0])\n",
    "b = tf.Variable(np.random.rand(2)[1])"
   ]
  },
  {
   "cell_type": "code",
   "execution_count": 28,
   "metadata": {},
   "outputs": [
    {
     "data": {
      "text/plain": [
       "[(0.54203330452907661, -0.17289560546176563),\n",
       " (1.1757556880886892, 2.2438730849940156),\n",
       " (0.85241230552447522, 3.5700146091778042),\n",
       " (2.5051431438392662, 3.2678355837020416),\n",
       " (4.6700597050484838, 4.3278024713037482),\n",
       " (4.4168565359374323, 5.9674226486076263),\n",
       " (6.6670168080690466, 6.1404906559792778),\n",
       " (6.6918064825544663, 6.630512056861761),\n",
       " (7.5473140921566877, 7.5421918780762134),\n",
       " (9.0348307676084545, 10.412975958453476)]"
      ]
     },
     "execution_count": 28,
     "metadata": {},
     "output_type": "execute_result"
    }
   ],
   "source": [
    "list(zip(x_data,y_label))"
   ]
  },
  {
   "cell_type": "code",
   "execution_count": 29,
   "metadata": {
    "collapsed": true
   },
   "outputs": [],
   "source": [
    "error = 0\n",
    "\n",
    "for x,y in zip(x_data,y_label):\n",
    "    \n",
    "    # get the predicted value\n",
    "    y_hat = m*x+b\n",
    "    \n",
    "    # calculate by how much predicted value is off and square it\n",
    "    error += (y - y_hat)**2\n",
    "\n"
   ]
  },
  {
   "cell_type": "code",
   "execution_count": 30,
   "metadata": {},
   "outputs": [
    {
     "data": {
      "text/plain": [
       "<tf.Tensor 'add_20:0' shape=() dtype=float64>"
      ]
     },
     "execution_count": 30,
     "metadata": {},
     "output_type": "execute_result"
    }
   ],
   "source": [
    "error"
   ]
  },
  {
   "cell_type": "code",
   "execution_count": 31,
   "metadata": {
    "collapsed": true
   },
   "outputs": [],
   "source": [
    "optimizer = tf.train.GradientDescentOptimizer(learning_rate=0.001)"
   ]
  },
  {
   "cell_type": "code",
   "execution_count": 32,
   "metadata": {
    "collapsed": true
   },
   "outputs": [],
   "source": [
    "train = optimizer.minimize(error)"
   ]
  },
  {
   "cell_type": "code",
   "execution_count": 33,
   "metadata": {
    "collapsed": true
   },
   "outputs": [],
   "source": [
    "init = tf.global_variables_initializer()"
   ]
  },
  {
   "cell_type": "code",
   "execution_count": 34,
   "metadata": {
    "collapsed": true
   },
   "outputs": [],
   "source": [
    "training_steps = 1000\n",
    "\n",
    "with tf.Session() as sess:\n",
    "    sess.run(init)\n",
    "    \n",
    "    for i in range(training_steps):\n",
    "        sess.run(train)\n",
    "        \n",
    "    final_slope, final_intercept = sess.run([m,b])    \n",
    "    "
   ]
  },
  {
   "cell_type": "code",
   "execution_count": 35,
   "metadata": {},
   "outputs": [
    {
     "data": {
      "text/plain": [
       "(0.91774386558137944, 0.94528837697573675)"
      ]
     },
     "execution_count": 35,
     "metadata": {},
     "output_type": "execute_result"
    }
   ],
   "source": [
    "final_slope, final_intercept"
   ]
  },
  {
   "cell_type": "code",
   "execution_count": 36,
   "metadata": {
    "collapsed": true
   },
   "outputs": [],
   "source": [
    "x_test = np.linspace(-1,11,10)\n",
    "y_test = final_slope * x_test + final_intercept"
   ]
  },
  {
   "cell_type": "code",
   "execution_count": 37,
   "metadata": {},
   "outputs": [
    {
     "data": {
      "text/plain": [
       "[<matplotlib.lines.Line2D at 0x1b9d1096dd8>]"
      ]
     },
     "execution_count": 37,
     "metadata": {},
     "output_type": "execute_result"
    },
    {
     "data": {
      "image/png": "[encoded data removed]",
      "text/plain": [
       "<matplotlib.figure.Figure at 0x1b9d5badcc0>"
      ]
     },
     "metadata": {},
     "output_type": "display_data"
    }
   ],
   "source": [
    "plt.plot(x_test,y_test)\n",
    "plt.plot(x_data,y_label,'*')"
   ]
  },
  {
   "cell_type": "code",
   "execution_count": null,
   "metadata": {
    "collapsed": true
   },
   "outputs": [],
   "source": []
  }
 ],
 "metadata": {
  "kernelspec": {
   "display_name": "Python 3",
   "language": "python",
   "name": "python3"
  },
  "language_info": {
   "codemirror_mode": {
    "name": "ipython",
    "version": 3
   },
   "file_extension": ".py",
   "mimetype": "text/x-python",
   "name": "python",
   "nbconvert_exporter": "python",
   "pygments_lexer": "ipython3",
   "version": "3.6.1"
  }
 },
 "nbformat": 4,
 "nbformat_minor": 2
}
