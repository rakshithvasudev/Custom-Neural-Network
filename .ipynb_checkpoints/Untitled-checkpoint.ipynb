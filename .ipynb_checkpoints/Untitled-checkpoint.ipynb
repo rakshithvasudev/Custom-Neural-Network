{
 "cells": [
  {
   "cell_type": "code",
   "execution_count": 19,
   "metadata": {
    "collapsed": true
   },
   "outputs": [],
   "source": [
    " class Operation():\n",
    "        def __init__(self,input_nodes=[]):\n",
    "            self.input_nodes = input_nodes\n",
    "            self.output_nodes = []\n",
    "            \n",
    "            for node in input_nodes:\n",
    "                node.output_nodes.append(self)\n",
    "        \n",
    "        \n",
    "        def compute():\n",
    "            pass"
   ]
  },
  {
   "cell_type": "code",
   "execution_count": 21,
   "metadata": {},
   "outputs": [],
   "source": [
    " class add(Operation):\n",
    "        def __init__(self,x,y):\n",
    "            super().__init__([x,y])\n",
    "        \n",
    "        def compute(self,x_var,y_var):\n",
    "            self.inputs = [x_var,y_var]\n",
    "            return x_var+y_var"
   ]
  },
  {
   "cell_type": "code",
   "execution_count": null,
   "metadata": {},
   "outputs": [],
   "source": [
    "  class multiply(Operation):\n",
    "        def __init__(self,x,y):\n",
    "            super().__init__([x,y])\n",
    "        \n",
    "        def compute(self,x_var,y_var):\n",
    "            self.inputs = [x_var,y_var]\n",
    "            return x_var.dot(y_var)"
   ]
  },
  {
   "cell_type": "code",
   "execution_count": null,
   "metadata": {
    "collapsed": true
   },
   "outputs": [],
   "source": [
    " "
   ]
  },
  {
   "cell_type": "code",
   "execution_count": null,
   "metadata": {},
   "outputs": [],
   "source": [
    " "
   ]
  },
  {
   "cell_type": "code",
   "execution_count": null,
   "metadata": {
    "collapsed": true
   },
   "outputs": [],
   "source": []
  }
 ],
 "metadata": {
  "kernelspec": {
   "display_name": "Python 3",
   "language": "python",
   "name": "python3"
  },
  "language_info": {
   "codemirror_mode": {
    "name": "ipython",
    "version": 3
   },
   "file_extension": ".py",
   "mimetype": "text/x-python",
   "name": "python",
   "nbconvert_exporter": "python",
   "pygments_lexer": "ipython3",
   "version": "3.6.1"
  }
 },
 "nbformat": 4,
 "nbformat_minor": 2
}
