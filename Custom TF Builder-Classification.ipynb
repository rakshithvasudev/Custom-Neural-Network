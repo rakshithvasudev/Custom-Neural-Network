{
 "cells": [
  {
   "cell_type": "markdown",
   "metadata": {},
   "source": [
    "# Custom TensorFlow for Classification"
   ]
  },
  {
   "cell_type": "code",
   "execution_count": 1,
   "metadata": {
    "collapsed": true
   },
   "outputs": [],
   "source": [
    "class Operation():\n",
    "    def __init__(self,input_nodes=[]):\n",
    "        self.input_nodes = input_nodes\n",
    "        self.output_nodes = []\n",
    "\n",
    "        for node in input_nodes:\n",
    "            node.output_nodes.append(self)\n",
    "        \n",
    "        _default_graph.operations.append(self)\n",
    "   \n",
    "    def compute():\n",
    "        pass"
   ]
  },
  {
   "cell_type": "code",
   "execution_count": 2,
   "metadata": {
    "collapsed": true
   },
   "outputs": [],
   "source": [
    "class add(Operation):\n",
    "    def __init__(self,x,y):\n",
    "        super().__init__([x,y])\n",
    "\n",
    "    def compute(self,x_var,y_var):\n",
    "        self.inputs = [x_var,y_var]\n",
    "        return x_var+y_var"
   ]
  },
  {
   "cell_type": "code",
   "execution_count": 3,
   "metadata": {
    "collapsed": true
   },
   "outputs": [],
   "source": [
    "class multiply(Operation):\n",
    "    def __init__(self,x,y):\n",
    "        super().__init__([x,y])\n",
    "\n",
    "    def compute(self,x_var,y_var):\n",
    "        self.inputs = [x_var,y_var]\n",
    "        return x_var*y_var"
   ]
  },
  {
   "cell_type": "code",
   "execution_count": 4,
   "metadata": {
    "collapsed": true
   },
   "outputs": [],
   "source": [
    "class matmultiply(Operation):\n",
    "    def __init__(self,x,y):\n",
    "        super().__init__([x,y])\n",
    "\n",
    "    def compute(self,x_var,y_var):\n",
    "        self.inputs = [x_var,y_var]\n",
    "        return x_var.dot(y_var)"
   ]
  },
  {
   "cell_type": "code",
   "execution_count": 5,
   "metadata": {
    "collapsed": true
   },
   "outputs": [],
   "source": [
    "class Placeholder():\n",
    "    def __init__(self):\n",
    "        self.output_nodes=[]\n",
    "        _default_graph.placeholders.append(self)\n",
    "        "
   ]
  },
  {
   "cell_type": "code",
   "execution_count": 6,
   "metadata": {
    "collapsed": true
   },
   "outputs": [],
   "source": [
    "class Variable():\n",
    "    def __init__(self,initial_value=None):\n",
    "        self.value = initial_value\n",
    "        self.output_nodes=[]\n",
    "        _default_graph.variables.append(self)"
   ]
  },
  {
   "cell_type": "code",
   "execution_count": 110,
   "metadata": {
    "collapsed": true
   },
   "outputs": [],
   "source": [
    "class Graph():\n",
    "    def __init__(self):   \n",
    "        self.operations = []\n",
    "        self.placeholders = []\n",
    "        self.variables =[]\n",
    "    \n",
    "    def set_as_default(self):\n",
    "        global _default_graph\n",
    "        _default_graph=self"
   ]
  },
  {
   "cell_type": "code",
   "execution_count": 111,
   "metadata": {
    "collapsed": true
   },
   "outputs": [],
   "source": [
    "g = Graph()"
   ]
  },
  {
   "cell_type": "code",
   "execution_count": 112,
   "metadata": {
    "collapsed": true
   },
   "outputs": [],
   "source": [
    "g.set_as_default()"
   ]
  },
  {
   "cell_type": "code",
   "execution_count": 113,
   "metadata": {
    "collapsed": true
   },
   "outputs": [],
   "source": [
    "A = Variable(10)"
   ]
  },
  {
   "cell_type": "code",
   "execution_count": 114,
   "metadata": {
    "collapsed": true
   },
   "outputs": [],
   "source": [
    "b = Variable(1)"
   ]
  },
  {
   "cell_type": "code",
   "execution_count": 115,
   "metadata": {
    "collapsed": true
   },
   "outputs": [],
   "source": [
    "x = Placeholder()"
   ]
  },
  {
   "cell_type": "code",
   "execution_count": 116,
   "metadata": {
    "collapsed": true
   },
   "outputs": [],
   "source": [
    "y = multiply(A,x)"
   ]
  },
  {
   "cell_type": "code",
   "execution_count": 117,
   "metadata": {
    "collapsed": true
   },
   "outputs": [],
   "source": [
    "z = add(y,b)"
   ]
  },
  {
   "cell_type": "code",
   "execution_count": 118,
   "metadata": {
    "collapsed": true
   },
   "outputs": [],
   "source": [
    "def traverse_postorder(operation):\n",
    "\n",
    "#         PostOrder Traversal of Nodes. Basically makes sure computations are done in \\n\",\n",
    "#         the correct order (Ax first , then Ax + b). Feel free to copy and paste this code.\\n\",\n",
    "#         It is not super important for understanding the basic fundamentals of deep learning.\\n\",\n",
    "\n",
    "    nodes_postorder = []\n",
    "    def recurse(node):\n",
    "        if isinstance(node, Operation):\n",
    "            for input_node in node.input_nodes:\n",
    "                recurse(input_node)\n",
    "        nodes_postorder.append(node)\n",
    "\n",
    "    recurse(operation)\n",
    "    return nodes_postorder"
   ]
  },
  {
   "cell_type": "code",
   "execution_count": 129,
   "metadata": {
    "collapsed": true
   },
   "outputs": [],
   "source": [
    "import numpy as np\n",
    "class Session():\n",
    "    def run(self,operation,feed_dict={}):\n",
    "        nodes_postorder = traverse_postorder(operation)\n",
    "        \n",
    "        for node in nodes_postorder:\n",
    "            if type(node) == Placeholder:\n",
    "                node.output = feed_dict[node]\n",
    "                \n",
    "            elif type(node) == Variable:\n",
    "                node.output = node.value\n",
    "            \n",
    "            else:\n",
    "                node.inputs = [input_node.output for input_node in node.input_nodes]\n",
    "                node.output = node.compute(*node.inputs)\n",
    "            \n",
    "            if type(node.output)==list:\n",
    "                node.output = np.array(node.output)\n",
    "    \n",
    "        return operation.output      "
   ]
  },
  {
   "cell_type": "code",
   "execution_count": 130,
   "metadata": {
    "collapsed": true
   },
   "outputs": [],
   "source": [
    "sess = Session()"
   ]
  },
  {
   "cell_type": "code",
   "execution_count": 131,
   "metadata": {},
   "outputs": [
    {
     "data": {
      "text/plain": [
       "array([[101, 201],\n",
       "       [111, 221]])"
      ]
     },
     "execution_count": 131,
     "metadata": {},
     "output_type": "execute_result"
    }
   ],
   "source": [
    "result = sess.run(z,feed_dict={x:10})\n",
    "result"
   ]
  },
  {
   "cell_type": "code",
   "execution_count": 138,
   "metadata": {
    "collapsed": true
   },
   "outputs": [],
   "source": [
    "g = Graph()\n",
    "g.set_as_default()\n",
    "A = Variable([[110,20],[11,22]])\n",
    "b = Variable([1,1])\n",
    "x = Placeholder()\n",
    "y = matmultiply(A,x)\n",
    "z = add(y,b)"
   ]
  },
  {
   "cell_type": "code",
   "execution_count": 139,
   "metadata": {
    "collapsed": true
   },
   "outputs": [],
   "source": [
    "sess = Session()"
   ]
  },
  {
   "cell_type": "code",
   "execution_count": 140,
   "metadata": {},
   "outputs": [
    {
     "data": {
      "text/plain": [
       "array([[1101,  201],\n",
       "       [ 111,  221]])"
      ]
     },
     "execution_count": 140,
     "metadata": {},
     "output_type": "execute_result"
    }
   ],
   "source": [
    "sess.run(z,{x:10})"
   ]
  },
  {
   "cell_type": "markdown",
   "metadata": {
    "collapsed": true
   },
   "source": [
    "# Classification\n",
    "\n",
    "## Activation Function"
   ]
  },
  {
   "cell_type": "code",
   "execution_count": 10,
   "metadata": {
    "collapsed": true
   },
   "outputs": [],
   "source": [
    "import matplotlib.pyplot as plt\n",
    "import numpy as np\n",
    "%matplotlib inline"
   ]
  },
  {
   "cell_type": "code",
   "execution_count": 11,
   "metadata": {
    "collapsed": true
   },
   "outputs": [],
   "source": [
    "def sigmoid(z):\n",
    "    return 1/(1+np.exp(-z))"
   ]
  },
  {
   "cell_type": "code",
   "execution_count": 19,
   "metadata": {},
   "outputs": [],
   "source": [
    "sample_z = np.linspace(-10,10,100)\n",
    "sample_a = sigmoid(sample_z)"
   ]
  },
  {
   "cell_type": "code",
   "execution_count": 24,
   "metadata": {},
   "outputs": [
    {
     "data": {
      "text/plain": [
       "<matplotlib.collections.PathCollection at 0x7fd8c48d60f0>"
      ]
     },
     "execution_count": 24,
     "metadata": {},
     "output_type": "execute_result"
    },
    {
     "data": {
      "image/png": "[encoded data removed]",
      "text/plain": [
       "<matplotlib.figure.Figure at 0x7fd8c4aa4ba8>"
      ]
     },
     "metadata": {},
     "output_type": "display_data"
    }
   ],
   "source": [
    "plt.scatter(sample_z,sample_a)"
   ]
  },
  {
   "cell_type": "code",
   "execution_count": 25,
   "metadata": {},
   "outputs": [
    {
     "data": {
      "text/plain": [
       "[<matplotlib.lines.Line2D at 0x7fd8c45feef0>]"
      ]
     },
     "execution_count": 25,
     "metadata": {},
     "output_type": "execute_result"
    },
    {
     "data": {
      "image/png": "[encoded data removed]",
      "text/plain": [
       "<matplotlib.figure.Figure at 0x7fd8c4440518>"
      ]
     },
     "metadata": {},
     "output_type": "display_data"
    }
   ],
   "source": [
    "plt.plot(sample_z,sample_a)"
   ]
  },
  {
   "cell_type": "code",
   "execution_count": 26,
   "metadata": {
    "collapsed": true
   },
   "outputs": [],
   "source": [
    "class Sigmoid(Operation):\n",
    "    def __init__(self,z):\n",
    "        super().__init__([z])\n",
    "    \n",
    "    def compute():\n",
    "        return 1/(1+np.exp(-z))        "
   ]
  },
  {
   "cell_type": "code",
   "execution_count": 27,
   "metadata": {
    "collapsed": true
   },
   "outputs": [],
   "source": [
    "from sklearn.datasets import make_blobs"
   ]
  },
  {
   "cell_type": "code",
   "execution_count": 29,
   "metadata": {},
   "outputs": [
    {
     "data": {
      "text/plain": [
       "(array([[  7.3402781 ,   9.36149154],\n",
       "        [  9.13332743,   8.74906102],\n",
       "        [  1.99243535,  -8.85885722],\n",
       "        [  7.38443759,   7.72520389],\n",
       "        [  7.97613887,   8.80878209],\n",
       "        [  7.76974352,   9.50899462],\n",
       "        [  8.3186688 ,  10.1026025 ],\n",
       "        [  8.79588546,   7.28046702],\n",
       "        [  9.81270381,   9.46968531],\n",
       "        [  1.57961049,  -8.17089971],\n",
       "        [  0.06441546,  -9.04982817],\n",
       "        [  7.2075117 ,   7.04533624],\n",
       "        [  9.10704928,   9.0272212 ],\n",
       "        [  1.82921897,  -9.86956281],\n",
       "        [  7.85036314,   7.986659  ],\n",
       "        [  3.04605603,  -7.50486114],\n",
       "        [  1.85582689,  -6.74473432],\n",
       "        [  2.88603902,  -8.85261704],\n",
       "        [ -1.20046211,  -9.55928542],\n",
       "        [  2.00890845,  -9.78471782],\n",
       "        [  7.68945113,   9.01706723],\n",
       "        [  6.42356167,   8.33356412],\n",
       "        [  8.15467319,   7.87489634],\n",
       "        [  1.92000795,  -7.50953708],\n",
       "        [  1.90073973,  -7.24386675],\n",
       "        [  7.7605855 ,   7.05124418],\n",
       "        [  6.90561582,   9.23493842],\n",
       "        [  0.65582768,  -9.5920878 ],\n",
       "        [  1.41804346,  -8.10517372],\n",
       "        [  9.65371965,   9.35409538],\n",
       "        [  1.23053506,  -7.98873571],\n",
       "        [  1.96322881,  -9.50169117],\n",
       "        [  6.11644251,   9.26709393],\n",
       "        [  7.70630321,  10.78862346],\n",
       "        [  0.79580385,  -9.00301023],\n",
       "        [  3.13114921,  -8.6849493 ],\n",
       "        [  1.3970852 ,  -7.25918415],\n",
       "        [  7.27808709,   7.15201886],\n",
       "        [  1.06965742,  -8.1648251 ],\n",
       "        [  6.37298915,   9.77705761],\n",
       "        [  7.24898455,   8.85834104],\n",
       "        [  2.09335725,  -7.66278316],\n",
       "        [  1.05865542,  -8.43841416],\n",
       "        [  6.43807502,   7.85483418],\n",
       "        [  6.94948313,   8.75248232],\n",
       "        [ -0.07326715, -11.69999644],\n",
       "        [  0.61463602,  -9.51908883],\n",
       "        [  1.31977821,  -7.2710667 ],\n",
       "        [  2.72532584,  -7.51956557],\n",
       "        [  8.20949206,  11.90419283]]),\n",
       " array([1, 1, 0, 1, 1, 1, 1, 1, 1, 0, 0, 1, 1, 0, 1, 0, 0, 0, 0, 0, 1, 1, 1,\n",
       "        0, 0, 1, 1, 0, 0, 1, 0, 0, 1, 1, 0, 0, 0, 1, 0, 1, 1, 0, 0, 1, 1, 0,\n",
       "        0, 0, 0, 1]))"
      ]
     },
     "execution_count": 29,
     "metadata": {},
     "output_type": "execute_result"
    }
   ],
   "source": [
    "data = make_blobs(50,2,2,random_state=75)\n",
    "data"
   ]
  },
  {
   "cell_type": "code",
   "execution_count": 30,
   "metadata": {
    "collapsed": true
   },
   "outputs": [],
   "source": [
    "features = data[0]\n",
    "labels = data[1]"
   ]
  },
  {
   "cell_type": "code",
   "execution_count": 34,
   "metadata": {},
   "outputs": [
    {
     "data": {
      "text/plain": [
       "<matplotlib.collections.PathCollection at 0x7fd8b80f94a8>"
      ]
     },
     "execution_count": 34,
     "metadata": {},
     "output_type": "execute_result"
    },
    {
     "data": {
      "image/png": "[encoded data removed]",
      "text/plain": [
       "<matplotlib.figure.Figure at 0x7fd8ec8b1b70>"
      ]
     },
     "metadata": {},
     "output_type": "display_data"
    }
   ],
   "source": [
    "plt.scatter(features[:,0],features[:,1],c=labels,cmap='coolwarm')\n"
   ]
  },
  {
   "cell_type": "code",
   "execution_count": 39,
   "metadata": {},
   "outputs": [
    {
     "data": {
      "text/plain": [
       "array([ -1.        ,   0.33333333,   1.66666667,   3.        ,\n",
       "         4.33333333,   5.66666667,   7.        ,   8.33333333,\n",
       "         9.66666667,  11.        ])"
      ]
     },
     "execution_count": 39,
     "metadata": {},
     "output_type": "execute_result"
    }
   ],
   "source": [
    "x = np.linspace(-1,11,10)\n",
    "x"
   ]
  },
  {
   "cell_type": "code",
   "execution_count": 43,
   "metadata": {},
   "outputs": [
    {
     "data": {
      "text/plain": [
       "<matplotlib.collections.PathCollection at 0x7fd8b7dcd978>"
      ]
     },
     "execution_count": 43,
     "metadata": {},
     "output_type": "execute_result"
    },
    {
     "data": {
      "image/png": "[encoded data removed]",
      "text/plain": [
       "<matplotlib.figure.Figure at 0x7fd8b7dcda58>"
      ]
     },
     "metadata": {},
     "output_type": "display_data"
    }
   ],
   "source": [
    "plt.plot(-x+5)\n",
    "plt.scatter(features[:,0],features[:,1],c=labels,cmap='coolwarm')"
   ]
  },
  {
   "cell_type": "code",
   "execution_count": null,
   "metadata": {
    "collapsed": true
   },
   "outputs": [],
   "source": []
  }
 ],
 "metadata": {
  "kernelspec": {
   "display_name": "Python 3",
   "language": "python",
   "name": "python3"
  },
  "language_info": {
   "codemirror_mode": {
    "name": "ipython",
    "version": 3
   },
   "file_extension": ".py",
   "mimetype": "text/x-python",
   "name": "python",
   "nbconvert_exporter": "python",
   "pygments_lexer": "ipython3",
   "version": "3.6.1"
  }
 },
 "nbformat": 4,
 "nbformat_minor": 2
}
